{
 "cells": [
  {
   "cell_type": "markdown",
   "id": "b6e4c3b8",
   "metadata": {},
   "source": [
    "## Tutorial"
   ]
  },
  {
   "cell_type": "markdown",
   "id": "ab3eb58e",
   "metadata": {},
   "source": [
    "### Saving Models with BentoML\n",
    "\n",
    "To begin with BentoML, you will need to save your trained models with BentoML API in its model store (a local directory managed by BentoML). The model store is used for managing all your trained models locally as well as accessing them for serving"
   ]
  },
  {
   "cell_type": "code",
   "execution_count": 1,
   "id": "6c11338f",
   "metadata": {},
   "outputs": [],
   "source": [
    "import bentoml\n",
    "\n",
    "from sklearn import svm\n",
    "from sklearn import datasets"
   ]
  },
  {
   "cell_type": "code",
   "execution_count": 2,
   "id": "b0ed6ccf",
   "metadata": {},
   "outputs": [
    {
     "name": "stdout",
     "output_type": "stream",
     "text": [
      "Model saved: Model(tag=\"iris_clf:qfy5hzsrc6g5c6cp\")\n"
     ]
    }
   ],
   "source": [
    "# load training data set\n",
    "iris = datasets.load_iris()\n",
    "x, y = iris.data, iris.target\n",
    "\n",
    "# train the model\n",
    "clf = svm.SVC(gamma='scale')\n",
    "clf.fit(x, y)\n",
    "\n",
    "# save the model to the BentoML local model store\n",
    "saved_model = bentoml.sklearn.save_model('iris_clf', clf)\n",
    "print(f\"Model saved: {saved_model}\")"
   ]
  },
  {
   "cell_type": "markdown",
   "id": "4715e807",
   "metadata": {},
   "source": [
    "The model is now saved under the name iris_clf with an automatically generated version. The name and version pair can then be used for retrieving the model. For instance, the original model object can be loaded back into memory for testing via:"
   ]
  },
  {
   "cell_type": "code",
   "execution_count": 3,
   "id": "eb1b3afe",
   "metadata": {},
   "outputs": [],
   "source": [
    "model = bentoml.sklearn.load_model(\"iris_clf:qfy5hzsrc6g5c6cp\")\n",
    "\n",
    "# alternatively, use 'latest' to find the newest version\n",
    "model = bentoml.sklearn.load_model('iris_clf:latest')"
   ]
  },
  {
   "cell_type": "markdown",
   "id": "fc22edb6",
   "metadata": {},
   "source": [
    "The bentoml.sklearn.save_model API is built specifically for the Scikit-Learn framework and uses its native saved model format under the hood for best compatibility and performance. "
   ]
  },
  {
   "cell_type": "markdown",
   "id": "6ffdfdd7",
   "metadata": {},
   "source": [
    "### Creating a Service\n",
    "Services are the core components of BentoML, where the serving logic is defined. Create a file service.py with:"
   ]
  },
  {
   "cell_type": "code",
   "execution_count": 5,
   "id": "0f926d73",
   "metadata": {},
   "outputs": [],
   "source": [
    "import numpy as np\n",
    "import bentoml\n",
    "from bentoml.io import NumpyNdarray"
   ]
  },
  {
   "cell_type": "code",
   "execution_count": 7,
   "id": "bd59d12f",
   "metadata": {},
   "outputs": [],
   "source": [
    "iris_clf_runner = bentoml.sklearn.get('iris_clf:latest').to_runner()\n",
    "\n",
    "service = bentoml.Service('iris_classifier', runners=[iris_clf_runner])\n",
    "\n",
    "@service.api(input=NumpyNdarray(), output=NumpyNdarray())\n",
    "def classify(input_series: np.ndarray) -> np.ndarray:\n",
    "    result = iris_clf_runner.predict.run(input_series)\n",
    "    \n",
    "    return result"
   ]
  },
  {
   "cell_type": "markdown",
   "id": "d5aabeb7",
   "metadata": {},
   "source": [
    "Send prediction request to the service:"
   ]
  },
  {
   "cell_type": "code",
   "execution_count": null,
   "id": "b97428e5",
   "metadata": {},
   "outputs": [],
   "source": [
    "import requests\n",
    "\n",
    "requests.post(\n",
    "   \"http://127.0.0.1:3000/classify\",\n",
    "   headers={\"content-type\": \"application/json\"},\n",
    "   data=\"[[5.9, 3, 5.1, 1.8]]\",\n",
    ").text"
   ]
  }
 ],
 "metadata": {
  "kernelspec": {
   "display_name": "bentoml",
   "language": "python",
   "name": "bentoml"
  },
  "language_info": {
   "codemirror_mode": {
    "name": "ipython",
    "version": 3
   },
   "file_extension": ".py",
   "mimetype": "text/x-python",
   "name": "python",
   "nbconvert_exporter": "python",
   "pygments_lexer": "ipython3",
   "version": "3.8.10"
  }
 },
 "nbformat": 4,
 "nbformat_minor": 5
}
