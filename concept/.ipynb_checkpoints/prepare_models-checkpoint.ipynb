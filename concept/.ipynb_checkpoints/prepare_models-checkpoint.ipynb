{
 "cells": [
  {
   "cell_type": "markdown",
   "id": "71c6f297",
   "metadata": {},
   "source": [
    "## Preparing Models\n",
    "\n",
    "Save and version trained ML model with BentoML's model store"
   ]
  },
  {
   "cell_type": "markdown",
   "id": "eeb5caaa",
   "metadata": {},
   "source": [
    "### Save A Trained Model\n",
    "\n",
    "A trained ML model instance needs to be saved with BentoML API, in order to serve it with BentoML. For most cases, it will be just one line added to your model training pipeline, invoking a save_model call"
   ]
  },
  {
   "cell_type": "code",
   "execution_count": 1,
   "id": "0b7d5eb3",
   "metadata": {},
   "outputs": [
    {
     "name": "stdout",
     "output_type": "stream",
     "text": [
      "Model saved: Model(tag=\"iris_clf:deocjxszyw3cllg6\")\n"
     ]
    }
   ],
   "source": [
    "import bentoml\n",
    "\n",
    "from sklearn import svm\n",
    "from sklearn import datasets\n",
    "\n",
    "# load training data set\n",
    "iris = datasets.load_iris()\n",
    "x, y = iris.data, iris.target\n",
    "\n",
    "# train the model\n",
    "clf = svm.SVC(gamma='scale')\n",
    "clf.fit(x, y)\n",
    "\n",
    "saved_model = bentoml.sklearn.save_model(\"iris_clf\", clf)\n",
    "print(f\"Model saved: {saved_model}\")"
   ]
  },
  {
   "cell_type": "markdown",
   "id": "a0d158fa",
   "metadata": {},
   "source": [
    "We recommend **always save the model with BentoML as soon as it finished training and validation**. By putting the save_model call to the end of your training pipeline, all your finalized models can be managed in one place and ready for inference."
   ]
  },
  {
   "cell_type": "markdown",
   "id": "de547bfd",
   "metadata": {},
   "source": [
    "Optionally, you may attach custom labels, metadata, or custom_objects to be saved alongside your model in the model store, e.g.:"
   ]
  },
  {
   "cell_type": "code",
   "execution_count": null,
   "id": "656cd156",
   "metadata": {},
   "outputs": [],
   "source": [
    "bentoml.pytorch.save_model(\n",
    "    \"demo_mnist\",    # model name in the local model store\n",
    "    trained_model,   # model instance being saved\n",
    "    labels={         # user-defined labels for managing models in Yatai\n",
    "        \"owner\": \"nlp_team\",\n",
    "        \"stage\": \"dev\"\n",
    "    },\n",
    "    meetadata={    # user-defined additional metadata\n",
    "        \"acc\": acc,\n",
    "        \"cv_stats\": cv_stats,\n",
    "        \"dataset_version\": \"20220101\",\n",
    "    },\n",
    "    custom_object={    # save additional user-defined python object\n",
    "        \"tokenizer\": tokenizer_object,\n",
    "    }\n",
    ")"
   ]
  },
  {
   "cell_type": "markdown",
   "id": "7edac66d",
   "metadata": {},
   "source": [
    "- labels: user-defined labels for managing models, e.g. team=nlp, stage=dev.\n",
    "\n",
    "- metadata: user-defined metadata for storing model training context information or model evaluation metrics, e.g. dataset version, training parameters, model scores.\n",
    "\n",
    "- custom_objects: user-defined additional python objects, e.g. a tokenizer instance, preprocessor function, model configuration json, serialized with cloudpickle. Custom objects will be serialized with cloudpickle."
   ]
  },
  {
   "cell_type": "markdown",
   "id": "91c48314",
   "metadata": {},
   "source": [
    "### Retrieve a saved model\n",
    "\n",
    "To load the model instance back into memory, use the framework-specific `load_model` method."
   ]
  },
  {
   "cell_type": "code",
   "execution_count": 2,
   "id": "3f05871e",
   "metadata": {},
   "outputs": [],
   "source": [
    "import bentoml\n",
    "from sklearn.base import BaseEstimator\n",
    "\n",
    "model : BaseEstimator = bentoml.sklearn.load_model(\"iris_clf:latest\")"
   ]
  },
  {
   "cell_type": "markdown",
   "id": "027f9605",
   "metadata": {},
   "source": [
    "For retrieving the model metadata or custom objects, use the `get` method:"
   ]
  },
  {
   "cell_type": "code",
   "execution_count": 4,
   "id": "0c953d4d",
   "metadata": {
    "collapsed": true
   },
   "outputs": [
    {
     "name": "stdout",
     "output_type": "stream",
     "text": [
      "iris_clf:deocjxszyw3cllg6\n",
      "/Users/yjkim/bentoml/models/iris_clf/deocjxszyw3cllg6\n",
      "{}\n",
      "{}\n",
      "{}\n"
     ]
    }
   ],
   "source": [
    "import bentoml\n",
    "bento_model: bentoml.Model = bentoml.models.get(\"iris_clf:latest\")\n",
    "\n",
    "print(bento_model.tag)\n",
    "print(bento_model.path)\n",
    "print(bento_model.custom_objects)\n",
    "print(bento_model.info.metadata)\n",
    "print(bento_model.info.labels)\n",
    "\n",
    "my_runner: bentoml.Runner = bento_model.to_runner()"
   ]
  },
  {
   "cell_type": "markdown",
   "id": "dbdf9a83",
   "metadata": {},
   "source": [
    "`bentoml.models.get` returns a bentoml.Model instance, which is a reference to a saved model entry in the BentoML model store. The bentoml.Model instance then provides access to the model info and the to_runner API for creating a Runner instance from the model."
   ]
  },
  {
   "cell_type": "markdown",
   "id": "e89e8668",
   "metadata": {},
   "source": [
    "### Managing Models\n",
    "\n",
    "Saved models are stored in BentoML’s model store, which is a local file directory maintained by BentoML. Users can view and manage all saved models via the `bentoml models` CLI command:"
   ]
  },
  {
   "cell_type": "markdown",
   "id": "633ea895",
   "metadata": {},
   "source": [
    "List\n",
    "\n",
    "```bash\n",
    "> bentoml models list\n",
    "\n",
    "Tag                        Module           Size        Creation Time        Path\n",
    "iris_clf:2uo5fkgxj27exuqj  bentoml.sklearn  5.81 KiB    2022-05-19 08:36:52  ~/bentoml/models/iris_clf/2uo5fkgxj27exuqj\n",
    "iris_clf:nb5vrfgwfgtjruqj  bentoml.sklearn  5.80 KiB    2022-05-17 21:36:27  ~/bentoml/models/iris_clf/nb5vrfgwfgtjruqj\n",
    "```"
   ]
  },
  {
   "cell_type": "markdown",
   "id": "82a20c22",
   "metadata": {},
   "source": [
    "Get\n",
    "```bash\n",
    "> bentoml models get iris_clf:latest\n",
    "\n",
    "name: iris_clf\n",
    "version: 2uo5fkgxj27exuqj\n",
    "module: bentoml.sklearn\n",
    "labels: {}\n",
    "options: {}\n",
    "metadata: {}\n",
    "context:\n",
    "    framework_name: sklearn\n",
    "    framework_versions:\n",
    "      scikit-learn: 1.1.0\n",
    "    bentoml_version: 1.0.0\n",
    "    python_version: 3.8.12\n",
    "signatures:\n",
    "    predict:\n",
    "      batchable: false\n",
    "api_version: v1\n",
    "creation_time: '2022-05-19T08:36:52.456990+00:00'\n",
    "```"
   ]
  },
  {
   "cell_type": "markdown",
   "id": "3653347b",
   "metadata": {},
   "source": [
    "Delete\n",
    "```bash\n",
    "> bentoml models delete iris_clf:latest -y\n",
    "\n",
    "INFO [cli] Model(tag=\"iris_clf:2uo5fkgxj27exuqj\") deleted\n",
    "```"
   ]
  },
  {
   "cell_type": "markdown",
   "id": "afae0e52",
   "metadata": {},
   "source": [
    "### Model Import and Export\n",
    "Models saved with BentoML can be exported to a standalone archive file outside of the model store, for sharing models between teams or moving models between different build stages. For example:\n",
    "\n",
    "```bash\n",
    "> bentoml models export iris_clf:latest .\n",
    "\n",
    "Model(tag=\"iris_clf:2uo5fkgxj27exuqj\") exported to ./iris_clf-2uo5fkgxj27exuqj.bentomodel\n",
    "```\n",
    "\n"
   ]
  },
  {
   "cell_type": "code",
   "execution_count": null,
   "id": "5267dbf6",
   "metadata": {},
   "outputs": [],
   "source": []
  },
  {
   "cell_type": "code",
   "execution_count": null,
   "id": "9f7a317c",
   "metadata": {},
   "outputs": [],
   "source": []
  },
  {
   "cell_type": "code",
   "execution_count": null,
   "id": "8ed03f12",
   "metadata": {},
   "outputs": [],
   "source": []
  }
 ],
 "metadata": {
  "kernelspec": {
   "display_name": "bentoml",
   "language": "python",
   "name": "bentoml"
  },
  "language_info": {
   "codemirror_mode": {
    "name": "ipython",
    "version": 3
   },
   "file_extension": ".py",
   "mimetype": "text/x-python",
   "name": "python",
   "nbconvert_exporter": "python",
   "pygments_lexer": "ipython3",
   "version": "3.8.10"
  }
 },
 "nbformat": 4,
 "nbformat_minor": 5
}
