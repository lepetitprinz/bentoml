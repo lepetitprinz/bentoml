{
 "cells": [
  {
   "cell_type": "markdown",
   "id": "00355d20",
   "metadata": {},
   "source": [
    "## Building Bentos\n",
    "\n",
    "Bento 🍱 is a file archive with all the source code, models, data files and dependency configurations required for running a user-defined bentoml.Service, packaged into a standardized format."
   ]
  },
  {
   "cell_type": "markdown",
   "id": "8a1d2929",
   "metadata": {},
   "source": [
    "While `bentoml.Service` standardizes the inference API definition, including the serving logic, runners initialization and API input, output types. Bento standardizes how to reproduce the required environment for running a `bentoml.Service` in production."
   ]
  },
  {
   "cell_type": "markdown",
   "id": "94999a24",
   "metadata": {},
   "source": [
    "### The Build Command\n",
    "A Bento can be created with the bentoml build CLI command with a `bentofile.yaml` build file. \n",
    "\n",
    "```yaml\n",
    "service: \"service:svc\"  # Sames as the argument passed to 'bentoml serve'\n",
    "labels:\n",
    "    owner: bentoml-team\n",
    "    stage: dev\n",
    "include:\n",
    "- \"*.py\"  # A pattern for matching which files to include in the bento\n",
    "python:\n",
    "    packages:  # Additional pip packages required by the service\n",
    "    - scikit-learn\n",
    "    - pandas\n",
    "```\n",
    "\n",
    "``` bash\n",
    "$ bentoml build\n",
    "Building BentoML service \"iris_classifier:dpijemevl6nlhlg6\" from build context \"/home/user/gallery/quickstart\"\n",
    "Packing model \"iris_clf:zy3dfgxzqkjrlgxi\"\n",
    "Locking PyPI package versions..\n",
    "██████╗░███████╗███╗░░██╗████████╗░█████╗░███╗░░░███╗██╗░░░░░\n",
    "██╔══██╗██╔════╝████╗░██║╚══██╔══╝██╔══██╗████╗░████║██║░░░░░\n",
    "██████╦╝█████╗░░██╔██╗██║░░░██║░░░██║░░██║██╔████╔██║██║░░░░░\n",
    "██╔══██╗██╔══╝░░██║╚████║░░░██║░░░██║░░██║██║╚██╔╝██║██║░░░░░\n",
    "██████╦╝███████╗██║░╚███║░░░██║░░░╚█████╔╝██║░╚═╝░██║███████╗\n",
    "╚═════╝░╚══════╝╚═╝░░╚══╝░░░╚═╝░░░░╚════╝░╚═╝░░░░░╚═╝╚══════╝\n",
    "Successfully built Bento(tag=\"iris_classifier:dpijemevl6nlhlg6\")\n",
    "```\n",
    "Similar to saving a model, a unique version tag will be automatically generated for the newly created Bento.\n"
   ]
  },
  {
   "cell_type": "markdown",
   "id": "db13c3d4",
   "metadata": {},
   "source": [
    "It is also possible to customize the Bento version string by specifying it in the `--version` CLI argument. However this is generally not recommended. Only use it if your team has a very specific naming convention for deployable artifacts,\n",
    "\n",
    "```bash\n",
    "$ bentoml build --version 1.0.1\n",
    "```"
   ]
  },
  {
   "cell_type": "markdown",
   "id": "6354e9f5",
   "metadata": {},
   "source": [
    "### Managing Bentos\n",
    "\n",
    "Bentos are the unit of deployment in BentoML, one of the most important artifact to keep track of for your model deployment workflow."
   ]
  },
  {
   "cell_type": "markdown",
   "id": "6a05bad0",
   "metadata": {},
   "source": [
    "#### Locaal Bento Store"
   ]
  },
  {
   "cell_type": "markdown",
   "id": "8fafcb12",
   "metadata": {},
   "source": [
    "*List*\n",
    "```bash\n",
    "$ bentoml list\n",
    "\n",
    "Tag                               Size        Creation Time        Path\n",
    "iris_classifier:nvjtj7wwfgsafuqj  16.99 KiB   2022-05-17 21:36:36  ~/bentoml/bentos/iris_classifier/nvjtj7wwfgsafuqj\n",
    "iris_classifier:jxcnbhfv6w6kvuqj  19.68 KiB   2022-04-06 22:02:52  ~/bentoml/bentos/iris_classifier/jxcnbhfv6w6kvuqj\n",
    "```"
   ]
  },
  {
   "cell_type": "markdown",
   "id": "de9d5d66",
   "metadata": {},
   "source": [
    "*Get*\n",
    "\n",
    "```bash\n",
    "» bentoml get iris_classifier:latest\n",
    "\n",
    "service: service:svc\n",
    "name: iris_classifier\n",
    "version: nvjtj7wwfgsafuqj\n",
    "bentoml_version: 1.0.0\n",
    "creation_time: '2022-05-17T21:36:36.436878+00:00'\n",
    "labels:\n",
    "  owner: bentoml-team\n",
    "  project: gallery\n",
    "models:\n",
    "- tag: iris_clf:nb5vrfgwfgtjruqj\n",
    "  module: bentoml.sklearn\n",
    "  creation_time: '2022-05-17T21:36:27.656424+00:00'\n",
    "runners:\n",
    "- name: iris_clf\n",
    "  runnable_type: SklearnRunnable\n",
    "  models:\n",
    "  - iris_clf:nb5vrfgwfgtjruqj\n",
    "  resource_config:\n",
    "    cpu: 4.0\n",
    "    nvidia_gpu: 0.0\n",
    "apis:\n",
    "- name: classify\n",
    "  input_type: NumpyNdarray\n",
    "  output_type: NumpyNdarray\n",
    "```"
   ]
  },
  {
   "cell_type": "markdown",
   "id": "78627683",
   "metadata": {},
   "source": [
    "*Delete*\n",
    "\n",
    "```bash\n",
    "» bentoml delete iris_classifier:latest -y\n",
    "\n",
    "Bento(tag=\"iris_classifier:nvjtj7wwfgsafuqj\") deleted\n",
    "```"
   ]
  },
  {
   "cell_type": "markdown",
   "id": "49559b1f",
   "metadata": {},
   "source": [
    "#### Import and Export\n",
    "\n",
    "Bentos can be exported to a standalone archive file outside of the store, for sharing Bentos betweem teams for moving between different deployment stages\n",
    "\n",
    "```bash\n",
    "$ bentoml export iris_classifier:latest .\n",
    "\n",
    "INFO [cli] Bento(tag=\"iris_classifier:nvjtj7wwfgsafuqj\") exported to ./iris_classifier-nvjtj7wwfgsafuqj.bento\n",
    "```\n",
    "\n",
    "```bash\n",
    "$ bentoml import ./iris_classifier-nvjtj7wwfgsafuqj.bento\n",
    "\n",
    "INFO [cli] Bento(tag=\"iris_classifier:nvjtj7wwfgsafuqj\") imported\n",
    "```"
   ]
  },
  {
   "cell_type": "markdown",
   "id": "2d7e0b26",
   "metadata": {},
   "source": [
    "#### Push and Pull\n",
    "\n",
    "Yatai provides a centralized Bento repository that comes with flexible APIs and Web UI for managing all Bentos created by your team. It can be configured to store Bento files on cloud blob storage such as AWS S3, MinIO or GCS, and automatically build docker images when a new Bento was pushed.\n",
    "\n",
    "``` bash\n",
    "$ bentoml push iris_classifier:latest\n",
    "\n",
    "Successfully pushed Bento \"iris_classifier:nvjtj7wwfgsafuqj\"\n",
    "```\n",
    "\n",
    "```bash\n",
    "$ bentoml pull iris_classifier:nvjtj7wwfgsafuqj\n",
    "\n",
    "Successfully pulled Bento \"iris_classifier:nvjtj7wwfgsafuqj\"\n",
    "```"
   ]
  },
  {
   "cell_type": "markdown",
   "id": "cb8c5473",
   "metadata": {},
   "source": [
    "#### Bento Management API\n",
    "\n",
    "Python APIs are also provided for managing Bentos:"
   ]
  },
  {
   "cell_type": "markdown",
   "id": "679dd0aa",
   "metadata": {},
   "source": [
    "get\n",
    "```python\n",
    "import bentoml\n",
    "\n",
    "bento = bentoml.get('iris_classifier:latest')\n",
    "\n",
    "print(bento.tag)\n",
    "print(bento.path)\n",
    "print(bento.info.to_dict())\n",
    "```"
   ]
  },
  {
   "cell_type": "markdown",
   "id": "52e4d202",
   "metadata": {},
   "source": [
    "List\n",
    "```python\n",
    "import bentoml\n",
    "\n",
    "bentos = bentoml.list()\n",
    "```"
   ]
  },
  {
   "cell_type": "markdown",
   "id": "108c988c",
   "metadata": {},
   "source": [
    "Import / Export\n",
    "```python\n",
    "import bentoml\n",
    "\n",
    "bentoml.export_bento('my_bento:latest', '/path/to/folder/my_bento.bento')\n",
    "bentoml.import_bento('/path/to/folder/my_bento.bento')\n",
    "```"
   ]
  },
  {
   "cell_type": "markdown",
   "id": "47765360",
   "metadata": {},
   "source": [
    "Push / Pull\n",
    "\n",
    "```python\n",
    "import bentoml\n",
    "\n",
    "bentoml.push(\"iris_classifier:nvjtj7wwfgsafuqj\")\n",
    "bentoml.pull(\"iris_classifier:nvjtj7wwfgsafuqj\")\n",
    "```"
   ]
  },
  {
   "cell_type": "markdown",
   "id": "2c4751de",
   "metadata": {},
   "source": [
    "Delete\n",
    "\n",
    "```python\n",
    "import bentoml\n",
    "\n",
    "bentoml.delete(\"iris_classifier:nvjtj7wwfgsafuqj\")\n",
    "```"
   ]
  },
  {
   "cell_type": "markdown",
   "id": "4afc1420",
   "metadata": {},
   "source": [
    "#### What's inside a Bento\n",
    "\n",
    "It is possible to view the generated files in a specific Bento. Simply use the -o/--output option of the bentoml get command to find the file path to the Bento archive directory.\n",
    "\n",
    "```shell\n",
    "» cd $(bentoml get iris_classifier:latest -o path)\n",
    "» tree\n",
    ".\n",
    "├── README.md\n",
    "├── apis\n",
    "│   └── openapi.yaml\n",
    "├── bento.yaml\n",
    "├── env\n",
    "│   ├── docker\n",
    "│   │   ├── Dockerfile\n",
    "│   │   └── entrypoint.sh\n",
    "│   └── python\n",
    "│       ├── requirements.lock.txt\n",
    "│       ├── requirements.txt\n",
    "│       └── version.txt\n",
    "├── models\n",
    "│    └── iris_clf\n",
    "│       ├── latest\n",
    "│       └── nb5vrfgwfgtjruqj\n",
    "│           ├── model.yaml\n",
    "│           └── saved_model.pkl\n",
    "└── src\n",
    "    ├── locustfile.py\n",
    "    ├── service.py\n",
    "    └── train.py\n",
    "```\n",
    "\n",
    "- `src` directory contains files specified under the include field in the bentofile.yaml. These files are relative to user Python code’s CWD (current working directory), which makes importing relative modules and file path inside user code possible.\n",
    "\n",
    "- `models` directory contains all models required by the Service. This is automatically determined from the bentoml.Service object’s runners list.\n",
    "\n",
    "- `apis` directory contains all API definitions. This directory contains API specs that are generated from the bentoml.Service object’s API definitions.\n",
    "\n",
    "- `env` directory contains all environment-related files which will help boostrap the Bento 🍱. This directory contains files that are generated from Bento Build Options that is specified under bentofile.yaml."
   ]
  },
  {
   "cell_type": "markdown",
   "id": "0708dec9",
   "metadata": {},
   "source": [
    "### Bento Build Options\n",
    "\n",
    "Build options are specified in a `.yaml` file, which customizes the final Bento produced.\n",
    "\n",
    "By convention, this file is named `bentofile.yaml`."
   ]
  },
  {
   "cell_type": "markdown",
   "id": "510b0440",
   "metadata": {},
   "source": [
    "#### Service\n",
    "`service` is a **required** field which specifies where the `bentoml.Service` object is defined.\n",
    "- `service` refers to the Python module (the `service.py` file)\n",
    "- `svc` refers to the `bentoml.Service` object created in `service.py`, with `svc=bentoml.Service(...)`"
   ]
  },
  {
   "cell_type": "markdown",
   "id": "bd3536f5",
   "metadata": {},
   "source": [
    "#### Description\n",
    "\n",
    "`description` field allows to customize documentation for any given Bento.\n",
    "\n",
    "The diescription contents must be plain text, optionally in Markdown format. Description can be specified either inline in the `bentofil.yaml`, or via a file path to an existing text file:\n",
    "\n",
    "**Inline**\n",
    "```yaml\n",
    "service: \"service.py:svc\"\n",
    "description: |\n",
    "    ## Description For My Bento\n",
    "    \n",
    "    Use **any markdown syntax** here!\n",
    "    \n",
    "    > BentoML is awesome!\n",
    "include:\n",
    "...\n",
    "```\n",
    "**File path**\n",
    "```yaml\n",
    "service: \"service.py:svc\"\n",
    "description: \"file: ./README.md\"\n",
    "include:\n",
    "...\n",
    "```"
   ]
  },
  {
   "cell_type": "markdown",
   "id": "c2fae195",
   "metadata": {},
   "source": [
    "#### Labels\n",
    "`labels` are key-value pairs that are attached to an object.\n",
    "In BentoML, both `bento` and `Model` can have labels attached to them. Labels are intended to be used to specify identifed attributes of Bentos/Models that are meaningful and relevant to users, but do not directly imply semantics to the rest of the system.\n",
    "\n",
    "```yaml\n",
    "labels:\n",
    "    owner: bentoml-tea\n",
    "```"
   ]
  },
  {
   "cell_type": "code",
   "execution_count": null,
   "id": "066ace62",
   "metadata": {},
   "outputs": [],
   "source": []
  }
 ],
 "metadata": {
  "kernelspec": {
   "display_name": "bentoml",
   "language": "python",
   "name": "bentoml"
  },
  "language_info": {
   "codemirror_mode": {
    "name": "ipython",
    "version": 3
   },
   "file_extension": ".py",
   "mimetype": "text/x-python",
   "name": "python",
   "nbconvert_exporter": "python",
   "pygments_lexer": "ipython3",
   "version": "3.8.10"
  }
 },
 "nbformat": 4,
 "nbformat_minor": 5
}
