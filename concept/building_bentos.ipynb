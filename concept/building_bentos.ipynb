{
 "cells": [
  {
   "cell_type": "markdown",
   "id": "0cc186c0",
   "metadata": {},
   "source": [
    "# Building Bentos\n",
    "\n",
    "Bento 🍱 is a file archive with all the source code, models, data files and dependency configurations required for running a user-defined bentoml.Service, packaged into a standardized format."
   ]
  },
  {
   "cell_type": "markdown",
   "id": "fe8584ed",
   "metadata": {},
   "source": [
    "While `bentoml.Service` standardizes the inference API definition, including the serving logic, runners initialization and API input, output types. Bento standardizes how to reproduce the required environment for running a `bentoml.Service` in production."
   ]
  },
  {
   "cell_type": "markdown",
   "id": "1d1f52b7",
   "metadata": {},
   "source": [
    "## The Build Command\n",
    "A Bento can be created with the bentoml build CLI command with a `bentofile.yaml` build file. \n",
    "\n",
    "```yaml\n",
    "service: \"service:svc\"  # Sames as the argument passed to 'bentoml serve'\n",
    "labels:\n",
    "    owner: bentoml-team\n",
    "    stage: dev\n",
    "include:\n",
    "- \"*.py\"  # A pattern for matching which files to include in the bento\n",
    "python:\n",
    "    packages:  # Additional pip packages required by the service\n",
    "    - scikit-learn\n",
    "    - pandas\n",
    "```\n",
    "\n",
    "``` bash\n",
    "$ bentoml build\n",
    "Building BentoML service \"iris_classifier:dpijemevl6nlhlg6\" from build context \"/home/user/gallery/quickstart\"\n",
    "Packing model \"iris_clf:zy3dfgxzqkjrlgxi\"\n",
    "Locking PyPI package versions..\n",
    "██████╗░███████╗███╗░░██╗████████╗░█████╗░███╗░░░███╗██╗░░░░░\n",
    "██╔══██╗██╔════╝████╗░██║╚══██╔══╝██╔══██╗████╗░████║██║░░░░░\n",
    "██████╦╝█████╗░░██╔██╗██║░░░██║░░░██║░░██║██╔████╔██║██║░░░░░\n",
    "██╔══██╗██╔══╝░░██║╚████║░░░██║░░░██║░░██║██║╚██╔╝██║██║░░░░░\n",
    "██████╦╝███████╗██║░╚███║░░░██║░░░╚█████╔╝██║░╚═╝░██║███████╗\n",
    "╚═════╝░╚══════╝╚═╝░░╚══╝░░░╚═╝░░░░╚════╝░╚═╝░░░░░╚═╝╚══════╝\n",
    "Successfully built Bento(tag=\"iris_classifier:dpijemevl6nlhlg6\")\n",
    "```\n",
    "Similar to saving a model, a unique version tag will be automatically generated for the newly created Bento.\n"
   ]
  },
  {
   "cell_type": "markdown",
   "id": "d186d5c4",
   "metadata": {},
   "source": [
    "It is also possible to customize the Bento version string by specifying it in the `--version` CLI argument. However this is generally not recommended. Only use it if your team has a very specific naming convention for deployable artifacts,\n",
    "\n",
    "```bash\n",
    "$ bentoml build --version 1.0.1\n",
    "```"
   ]
  },
  {
   "cell_type": "markdown",
   "id": "7ca54a70",
   "metadata": {},
   "source": [
    "## Managing Bentos\n",
    "\n",
    "Bentos are the unit of deployment in BentoML, one of the most important artifact to keep track of for your model deployment workflow."
   ]
  },
  {
   "cell_type": "markdown",
   "id": "cb11cea4",
   "metadata": {},
   "source": [
    "### Locaal Bento Store"
   ]
  },
  {
   "cell_type": "markdown",
   "id": "79e02df9",
   "metadata": {},
   "source": [
    "*List*\n",
    "```bash\n",
    "$ bentoml list\n",
    "\n",
    "Tag                               Size        Creation Time        Path\n",
    "iris_classifier:nvjtj7wwfgsafuqj  16.99 KiB   2022-05-17 21:36:36  ~/bentoml/bentos/iris_classifier/nvjtj7wwfgsafuqj\n",
    "iris_classifier:jxcnbhfv6w6kvuqj  19.68 KiB   2022-04-06 22:02:52  ~/bentoml/bentos/iris_classifier/jxcnbhfv6w6kvuqj\n",
    "```"
   ]
  },
  {
   "cell_type": "markdown",
   "id": "cd376af8",
   "metadata": {},
   "source": [
    "*Get*\n",
    "\n",
    "```bash\n",
    "» bentoml get iris_classifier:latest\n",
    "\n",
    "service: service:svc\n",
    "name: iris_classifier\n",
    "version: nvjtj7wwfgsafuqj\n",
    "bentoml_version: 1.0.0\n",
    "creation_time: '2022-05-17T21:36:36.436878+00:00'\n",
    "labels:\n",
    "  owner: bentoml-team\n",
    "  project: gallery\n",
    "models:\n",
    "- tag: iris_clf:nb5vrfgwfgtjruqj\n",
    "  module: bentoml.sklearn\n",
    "  creation_time: '2022-05-17T21:36:27.656424+00:00'\n",
    "runners:\n",
    "- name: iris_clf\n",
    "  runnable_type: SklearnRunnable\n",
    "  models:\n",
    "  - iris_clf:nb5vrfgwfgtjruqj\n",
    "  resource_config:\n",
    "    cpu: 4.0\n",
    "    nvidia_gpu: 0.0\n",
    "apis:\n",
    "- name: classify\n",
    "  input_type: NumpyNdarray\n",
    "  output_type: NumpyNdarray\n",
    "```"
   ]
  },
  {
   "cell_type": "markdown",
   "id": "2ec7d9f1",
   "metadata": {},
   "source": [
    "*Delete*\n",
    "\n",
    "```bash\n",
    "» bentoml delete iris_classifier:latest -y\n",
    "\n",
    "Bento(tag=\"iris_classifier:nvjtj7wwfgsafuqj\") deleted\n",
    "```"
   ]
  },
  {
   "cell_type": "markdown",
   "id": "000f40c3",
   "metadata": {},
   "source": [
    "### Import and Export\n",
    "\n",
    "Bentos can be exported to a standalone archive file outside of the store, for sharing Bentos betweem teams for moving between different deployment stages\n",
    "\n",
    "```bash\n",
    "$ bentoml export iris_classifier:latest .\n",
    "\n",
    "INFO [cli] Bento(tag=\"iris_classifier:nvjtj7wwfgsafuqj\") exported to ./iris_classifier-nvjtj7wwfgsafuqj.bento\n",
    "```\n",
    "\n",
    "```bash\n",
    "$ bentoml import ./iris_classifier-nvjtj7wwfgsafuqj.bento\n",
    "\n",
    "INFO [cli] Bento(tag=\"iris_classifier:nvjtj7wwfgsafuqj\") imported\n",
    "```"
   ]
  },
  {
   "cell_type": "markdown",
   "id": "01532d4e",
   "metadata": {},
   "source": [
    "### Push and Pull\n",
    "\n",
    "Yatai provides a centralized Bento repository that comes with flexible APIs and Web UI for managing all Bentos created by your team. It can be configured to store Bento files on cloud blob storage such as AWS S3, MinIO or GCS, and automatically build docker images when a new Bento was pushed.\n",
    "\n",
    "``` bash\n",
    "$ bentoml push iris_classifier:latest\n",
    "\n",
    "Successfully pushed Bento \"iris_classifier:nvjtj7wwfgsafuqj\"\n",
    "```\n",
    "\n",
    "```bash\n",
    "$ bentoml pull iris_classifier:nvjtj7wwfgsafuqj\n",
    "\n",
    "Successfully pulled Bento \"iris_classifier:nvjtj7wwfgsafuqj\"\n",
    "```"
   ]
  },
  {
   "cell_type": "markdown",
   "id": "248390c2",
   "metadata": {},
   "source": [
    "### Bento Management API\n",
    "\n",
    "Python APIs are also provided for managing Bentos:"
   ]
  },
  {
   "cell_type": "markdown",
   "id": "615eeafc",
   "metadata": {},
   "source": [
    "get\n",
    "```python\n",
    "import bentoml\n",
    "\n",
    "bento = bentoml.get('iris_classifier:latest')\n",
    "\n",
    "print(bento.tag)\n",
    "print(bento.path)\n",
    "print(bento.info.to_dict())\n",
    "```"
   ]
  },
  {
   "cell_type": "markdown",
   "id": "0769a0db",
   "metadata": {},
   "source": [
    "List\n",
    "```python\n",
    "import bentoml\n",
    "\n",
    "bentos = bentoml.list()\n",
    "```"
   ]
  },
  {
   "cell_type": "markdown",
   "id": "3ac928fc",
   "metadata": {},
   "source": [
    "Import / Export\n",
    "```python\n",
    "import bentoml\n",
    "\n",
    "bentoml.export_bento('my_bento:latest', '/path/to/folder/my_bento.bento')\n",
    "bentoml.import_bento('/path/to/folder/my_bento.bento')\n",
    "```"
   ]
  },
  {
   "cell_type": "markdown",
   "id": "06b96e77",
   "metadata": {},
   "source": [
    "Push / Pull\n",
    "\n",
    "```python\n",
    "import bentoml\n",
    "\n",
    "bentoml.push(\"iris_classifier:nvjtj7wwfgsafuqj\")\n",
    "bentoml.pull(\"iris_classifier:nvjtj7wwfgsafuqj\")\n",
    "```"
   ]
  },
  {
   "cell_type": "markdown",
   "id": "0000985b",
   "metadata": {},
   "source": [
    "Delete\n",
    "\n",
    "```python\n",
    "import bentoml\n",
    "\n",
    "bentoml.delete(\"iris_classifier:nvjtj7wwfgsafuqj\")\n",
    "```"
   ]
  },
  {
   "cell_type": "markdown",
   "id": "b66446f4",
   "metadata": {},
   "source": [
    "### What's inside a Bento\n",
    "\n",
    "It is possible to view the generated files in a specific Bento. Simply use the -o/--output option of the bentoml get command to find the file path to the Bento archive directory.\n",
    "\n",
    "```shell\n",
    "» cd $(bentoml get iris_classifier:latest -o path)\n",
    "» tree\n",
    ".\n",
    "├── README.md\n",
    "├── apis\n",
    "│   └── openapi.yaml\n",
    "├── bento.yaml\n",
    "├── env\n",
    "│   ├── docker\n",
    "│   │   ├── Dockerfile\n",
    "│   │   └── entrypoint.sh\n",
    "│   └── python\n",
    "│       ├── requirements.lock.txt\n",
    "│       ├── requirements.txt\n",
    "│       └── version.txt\n",
    "├── models\n",
    "│    └── iris_clf\n",
    "│       ├── latest\n",
    "│       └── nb5vrfgwfgtjruqj\n",
    "│           ├── model.yaml\n",
    "│           └── saved_model.pkl\n",
    "└── src\n",
    "    ├── locustfile.py\n",
    "    ├── service.py\n",
    "    └── train.py\n",
    "```\n",
    "\n",
    "- `src` directory contains files specified under the include field in the bentofile.yaml. These files are relative to user Python code’s CWD (current working directory), which makes importing relative modules and file path inside user code possible.\n",
    "\n",
    "- `models` directory contains all models required by the Service. This is automatically determined from the bentoml.Service object’s runners list.\n",
    "\n",
    "- `apis` directory contains all API definitions. This directory contains API specs that are generated from the bentoml.Service object’s API definitions.\n",
    "\n",
    "- `env` directory contains all environment-related files which will help boostrap the Bento 🍱. This directory contains files that are generated from Bento Build Options that is specified under bentofile.yaml."
   ]
  },
  {
   "cell_type": "markdown",
   "id": "23843222",
   "metadata": {},
   "source": [
    "## Bento Build Options\n",
    "\n",
    "Build options are specified in a `.yaml` file, which customizes the final Bento produced.\n",
    "\n",
    "By convention, this file is named `bentofile.yaml`."
   ]
  },
  {
   "cell_type": "markdown",
   "id": "610c577d",
   "metadata": {},
   "source": [
    "### Service\n",
    "`service` is a **required** field which specifies where the `bentoml.Service` object is defined.\n",
    "- `service` refers to the Python module (the `service.py` file)\n",
    "- `svc` refers to the `bentoml.Service` object created in `service.py`, with `svc=bentoml.Service(...)`"
   ]
  },
  {
   "cell_type": "markdown",
   "id": "c380f279",
   "metadata": {},
   "source": [
    "### Description\n",
    "\n",
    "`description` field allows to customize documentation for any given Bento.\n",
    "\n",
    "The diescription contents must be plain text, optionally in Markdown format. Description can be specified either inline in the `bentofil.yaml`, or via a file path to an existing text file:\n",
    "\n",
    "**Inline**\n",
    "```yaml\n",
    "service: \"service.py:svc\"\n",
    "description: |\n",
    "    ## Description For My Bento\n",
    "    \n",
    "    Use **any markdown syntax** here!\n",
    "    \n",
    "    > BentoML is awesome!\n",
    "include:\n",
    "...\n",
    "```\n",
    "**File path**\n",
    "```yaml\n",
    "service: \"service.py:svc\"\n",
    "description: \"file: ./README.md\"\n",
    "include:\n",
    "...\n",
    "```"
   ]
  },
  {
   "cell_type": "markdown",
   "id": "0813090d",
   "metadata": {},
   "source": [
    "### Labels\n",
    "`labels` are key-value pairs that are attached to an object.\n",
    "In BentoML, both `bento` and `Model` can have labels attached to them. Labels are intended to be used to specify identifed attributes of Bentos/Models that are meaningful and relevant to users, but do not directly imply semantics to the rest of the system.\n",
    "\n",
    "```yaml\n",
    "labels:\n",
    "    owner: bentoml-team\n",
    "    stage: not-ready\n",
    "```"
   ]
  },
  {
   "cell_type": "markdown",
   "id": "8e32cb7d",
   "metadata": {},
   "source": [
    "### Files to include & exclude\n",
    "include or exclude wildcard and directory pattern matching\n",
    "```yaml\n",
    "...\n",
    "include:\n",
    "    - \"data/\"\n",
    "    - \"**/*.py\"\n",
    "    - \"config/*.json\"\n",
    "    - \"path/to/a/file.csv\"\n",
    "exclude:\n",
    "    - \"test/\"\n",
    "    - \"secrets.key\"\n",
    "```\n",
    "\n",
    "Users can also opt to place a .bentoignore file in the build_ctx directory. This is what a .bentoignore file would look like:\n",
    "```yaml\n",
    ".bentoignore\n",
    "\n",
    "__pycache__/\n",
    "*.py[cod]\n",
    "*$py.class\n",
    ".ipynb_checkpoints/\n",
    "training_data/\n",
    "```"
   ]
  },
  {
   "cell_type": "markdown",
   "id": "fdfb2294",
   "metadata": {},
   "source": [
    "### Python Packages\n",
    "Required Python packages for a given Bento can be specified under the `python.packages` field.\n",
    "\n",
    "When a package name is left without a version, BentoML will lock the package to the version available under the current environment when running `bentoml build`. User can also specify the desired version, install from a custom PyPI source, or install from a GitHub repo\n",
    "\n",
    "```yaml\n",
    "python:\n",
    "    packages:\n",
    "    - \"numpy\"\n",
    "    - \"matplotlib==3.5.1\"\n",
    "    - \"package>=0.2,<0.3\"\n",
    "    - \"torchvision==0.9.2 --extra-index-url https://download.pytorch.org/whl/lts/1.8/cpu\"\n",
    "    - \"git+https://github.com/username/mylib.git@main\"\n",
    "```\n",
    "\n",
    "To use a variant of BentoML with additional features such as gRPC, tracing exporters, pydantic validation, specify the desired variant in the under python.packages field:\n",
    "\n",
    "```yaml\n",
    "python:\n",
    "    packages:\n",
    "    - \"bentoml[grpc]\"   # gRPC\n",
    "    - \"bentoml[aws]\"    # AWS\n",
    "    - \"bentoml[io-json]\"   # JSON IO\n",
    "    - \"bentoml[io-image]\"  # IMAGE IO\n",
    "    - \"bentoml[io-pandas]\" # Pandas IO\n",
    "    - \"bentoml[io-json]\"   # JSON IO\n",
    "    - \"bentoml[tracing-jaeger]\"  # Jaeger\n",
    "    - \"bentoml[tracing-zipkin]\"  # Zipkin\n",
    "```\n",
    "\n",
    "If you already have a requirements.txt file that defines python packages for your project, you may also supply a path to the requirements.txt file directly:\n",
    "```yaml\n",
    "python:\n",
    "    requirements_txt: \"./project-a/ml-requirements.txt\"\n",
    "```"
   ]
  },
  {
   "cell_type": "markdown",
   "id": "8ea472c0",
   "metadata": {},
   "source": [
    "#### Pip Install Options\n",
    "\n",
    "```yaml\n",
    "python:\n",
    "    requirements_txt: \"./requirements.txt\"\n",
    "    index_url: \"https://my.mirror.com/simple\"\n",
    "    no_index: False\n",
    "    trusted_host:\n",
    "    - \"pypi.python.org\"\n",
    "    - \"my.mirror.com\"\n",
    "    find_links:\n",
    "    - \"https://download.pytorch.org/whl/cu80/stable.html\"\n",
    "    extra_index_url:\n",
    "    - \"https://<other api token>:@my.mirror.com/pypi/simple\"\n",
    "    - \"https://pypi.python.org/simple\"\n",
    "    pip_args: \"--pre -U --force-reinstall\"\n",
    "```"
   ]
  },
  {
   "cell_type": "markdown",
   "id": "760baa93",
   "metadata": {},
   "source": [
    "#### PyPI Package Locking\n",
    "\n",
    "By default, BentoML automatically locks all package versions, as well as all packages in their dependency graph, to the version found in the current build environment, and generates a `requirements.lock.txt` file\n",
    "\n",
    "```yaml\n",
    "python:\n",
    "    requirements_txt: \"requirements.txt\"\n",
    "    lock_packages: false\n",
    "```"
   ]
  },
  {
   "cell_type": "markdown",
   "id": "d14af20e",
   "metadata": {},
   "source": [
    "#### Python WHeels\n",
    "\n",
    "Python .whl files are also supported as a type of dependency to include in a Bento.\n",
    "```yaml\n",
    "python:\n",
    "    wheels:\n",
    "    - ./lib/my_package.whl\n",
    "```"
   ]
  },
  {
   "cell_type": "code",
   "execution_count": null,
   "id": "0670a939",
   "metadata": {},
   "outputs": [],
   "source": []
  }
 ],
 "metadata": {
  "kernelspec": {
   "display_name": "bentoml",
   "language": "python",
   "name": "bentoml"
  },
  "language_info": {
   "codemirror_mode": {
    "name": "ipython",
    "version": 3
   },
   "file_extension": ".py",
   "mimetype": "text/x-python",
   "name": "python",
   "nbconvert_exporter": "python",
   "pygments_lexer": "ipython3",
   "version": "3.8.10"
  }
 },
 "nbformat": 4,
 "nbformat_minor": 5
}
